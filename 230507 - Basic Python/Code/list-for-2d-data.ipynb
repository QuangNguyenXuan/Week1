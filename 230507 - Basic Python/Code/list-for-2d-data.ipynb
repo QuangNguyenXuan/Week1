{
 "cells": [
  {
   "attachments": {},
   "cell_type": "markdown",
   "metadata": {},
   "source": [
    "# 1D List"
   ]
  },
  {
   "attachments": {},
   "cell_type": "markdown",
   "metadata": {},
   "source": [
    "## 1. Tao 1d list"
   ]
  },
  {
   "attachments": {},
   "cell_type": "markdown",
   "metadata": {},
   "source": [
    "[![](https://mermaid.ink/img/pako:eNotj8EKgzAMhl-l5Kwv0MNg6g6DDcY8th6CjbPQVqnpYRPffZ0up_D9H-TPCv1kCCS8Is6juD11EHnOqmWM3ImyPIlKXYNli85-SGAUzi7cHV61C7V6RBs4Z39c77hRl2AygQI8RY_W5Dvrz9DAI3nSIPNqaMDkWIMOW1Yx8dS-Qw-SY6IC0myQqbGYG3qQA7olUzKWp3g_uu8vbF8ZlkDw?type=png)](https://mermaid.live/edit#pako:eNotj8EKgzAMhl-l5Kwv0MNg6g6DDcY8th6CjbPQVqnpYRPffZ0up_D9H-TPCv1kCCS8Is6juD11EHnOqmWM3ImyPIlKXYNli85-SGAUzi7cHV61C7V6RBs4Z39c77hRl2AygQI8RY_W5Dvrz9DAI3nSIPNqaMDkWIMOW1Yx8dS-Qw-SY6IC0myQqbGYG3qQA7olUzKWp3g_uu8vbF8ZlkDw)"
   ]
  },
  {
   "cell_type": "code",
   "execution_count": 4,
   "metadata": {},
   "outputs": [
    {
     "name": "stdout",
     "output_type": "stream",
     "text": [
      "[1, 2, 3, 4, 5]\n"
     ]
    }
   ],
   "source": [
    "arr = [1, 2, 3, 4, 5]\n",
    "print(arr)"
   ]
  },
  {
   "cell_type": "code",
   "execution_count": 3,
   "metadata": {},
   "outputs": [
    {
     "name": "stdout",
     "output_type": "stream",
     "text": [
      "[0, 0, 0, 0, 0]\n"
     ]
    }
   ],
   "source": [
    "#Tao 1d list\n",
    "N = 5\n",
    "arr = [0]*N\n",
    "print(arr)\n"
   ]
  },
  {
   "cell_type": "code",
   "execution_count": 16,
   "metadata": {},
   "outputs": [
    {
     "name": "stdout",
     "output_type": "stream",
     "text": [
      "[1, 2, 3, 4, 5]\n"
     ]
    }
   ],
   "source": [
    "#Tạo 1d list sử dụng comprehension\n",
    "N = 5\n",
    "arr = [i for i in range(1, N+1)]\n",
    "print(arr)"
   ]
  },
  {
   "attachments": {},
   "cell_type": "markdown",
   "metadata": {},
   "source": [
    "## 2. Tổng các phần tử trong 1d list"
   ]
  },
  {
   "cell_type": "code",
   "execution_count": 6,
   "metadata": {},
   "outputs": [
    {
     "name": "stdout",
     "output_type": "stream",
     "text": [
      "15\n"
     ]
    }
   ],
   "source": [
    "#Tổng các phần tử trong 1d list\n",
    "my_list = [1, 2, 3, 4, 5]\n",
    "total = sum(my_list)\n",
    "print(total)  # Output: 15\n"
   ]
  },
  {
   "attachments": {},
   "cell_type": "markdown",
   "metadata": {},
   "source": [
    "## 3. Tìm giá trị lớn nhất và nhỏ nhất trong danh sách 1d"
   ]
  },
  {
   "cell_type": "code",
   "execution_count": 7,
   "metadata": {},
   "outputs": [
    {
     "name": "stdout",
     "output_type": "stream",
     "text": [
      "5\n",
      "1\n"
     ]
    }
   ],
   "source": [
    "#Tìm giá trị lớn nhất và nhỏ nhất trong danh sách 1d\n",
    "my_list = [1, 2, 3, 4, 5]\n",
    "max_value = max(my_list)\n",
    "min_value = min(my_list)\n",
    "print(max_value)  # Output: 5\n",
    "print(min_value)  # Output: 1\n"
   ]
  },
  {
   "attachments": {},
   "cell_type": "markdown",
   "metadata": {},
   "source": [
    "## 4. Tính trung bình cộng"
   ]
  },
  {
   "cell_type": "code",
   "execution_count": null,
   "metadata": {},
   "outputs": [],
   "source": [
    "#Tính trung bình cộng\n",
    "my_list = [1, 2, 3, 4, 5]\n",
    "average = sum(my_list) / len(my_list)\n",
    "print(average)  # Output: 3.0\n"
   ]
  },
  {
   "attachments": {},
   "cell_type": "markdown",
   "metadata": {},
   "source": [
    "## 5. Sắp xếp tăng dần hoặc giảm dần"
   ]
  },
  {
   "cell_type": "code",
   "execution_count": null,
   "metadata": {},
   "outputs": [],
   "source": [
    "#Sắp xếp tăng dần hoặc giảm dần\n",
    "my_list = [5, 3, 1, 4, 2]\n",
    "sorted_list = sorted(my_list)  # Sắp xếp tăng dần\n",
    "reverse_sorted_list = sorted(my_list, reverse=True)  # Sắp xếp giảm dần\n",
    "print(sorted_list)  # Output: [1, 2, 3, 4, 5]\n",
    "print(reverse_sorted_list)  # Output: [5, 4, 3, 2, 1]\n"
   ]
  },
  {
   "attachments": {},
   "cell_type": "markdown",
   "metadata": {},
   "source": [
    "## 6. Tính tổng các phần tử trên các vị trí chẵn hoặc lẻ:"
   ]
  },
  {
   "cell_type": "code",
   "execution_count": 2,
   "metadata": {},
   "outputs": [
    {
     "name": "stdout",
     "output_type": "stream",
     "text": [
      "6\n",
      "9\n"
     ]
    }
   ],
   "source": [
    "#Tính tổng các phần tử trên các vị trí chẵn hoặc lẻ:\n",
    "my_list = [1, 2, 3, 4, 5]\n",
    "sum_even = sum(my_list[1::2])  # Tổng các phần tử ở vị trí chẵn\n",
    "sum_odd = sum(my_list[0::2])  # Tổng các phần tử ở vị trí lẻ\n",
    "print(sum_even)  # Output: 6 (2 + 4)\n",
    "print(sum_odd)  # Output: 9 (1 + 3 + 5)\n"
   ]
  },
  {
   "attachments": {},
   "cell_type": "markdown",
   "metadata": {},
   "source": [
    "## Một số thao tác nâng cao hơn trong list 1d"
   ]
  },
  {
   "attachments": {},
   "cell_type": "markdown",
   "metadata": {},
   "source": [
    "## 1. Tìm các số chẵn trong danh sách và tính tổng của chúng:"
   ]
  },
  {
   "attachments": {},
   "cell_type": "markdown",
   "metadata": {},
   "source": [
    "```mermaid\n",
    "graph LR\n",
    "    A[Start] --> B(Initialize even_numbers list)\n",
    "    B --> C{Loop through each number in my_list}\n",
    "    C -- Check if even --> D[Add the even number to even_numbers list]\n",
    "    C -- Not even --> C\n",
    "    D --> E(Calculate the sum of even_numbers)\n",
    "    E --> F(Display even_numbers and sum_even)\n",
    "    F --> G[End]\n",
    "\n",
    "```"
   ]
  },
  {
   "cell_type": "code",
   "execution_count": 8,
   "metadata": {},
   "outputs": [
    {
     "name": "stdout",
     "output_type": "stream",
     "text": [
      "[]\n",
      "0\n"
     ]
    }
   ],
   "source": [
    "#Tìm các số chẵn trong danh sách và tính tổng của chúng:\n",
    "my_list = [1, 2, 3, 4, 5, 6, 7, 8, 9, 10]\n",
    "even_numbers = [num for num in my_list if num % 2 == 0]\n",
    "sum_even = sum(even_numbers)\n",
    "print(even_numbers)  # Output: [2, 4, 6, 8, 10]\n",
    "print(sum_even)  # Output: 30\n"
   ]
  },
  {
   "attachments": {},
   "cell_type": "markdown",
   "metadata": {},
   "source": [
    "## 2. Tính tổng của các số nguyên tố trong danh sách:"
   ]
  },
  {
   "attachments": {},
   "cell_type": "markdown",
   "metadata": {},
   "source": [
    "```mermaid\n",
    "graph LR\n",
    "    A[Start] --> B(Initialize prime_numbers list)\n",
    "    B --> C{Loop through each number in my_list}\n",
    "    C -- Check if prime --> D[Add the prime number to prime_numbers list]\n",
    "    C -- Not prime --> C\n",
    "    D --> E(Calculate the sum of prime_numbers)\n",
    "    E --> F(Display prime_numbers and sum_primes)\n",
    "    F --> G[End]\n",
    "```"
   ]
  },
  {
   "cell_type": "code",
   "execution_count": null,
   "metadata": {},
   "outputs": [],
   "source": [
    "#Tính tổng của các số nguyên tố trong danh sách:\n",
    "import math\n",
    "\n",
    "def is_prime(n):\n",
    "    if n < 2:\n",
    "        return False\n",
    "    for i in range(2, int(math.sqrt(n)) + 1):\n",
    "        if n % i == 0:\n",
    "            return False\n",
    "    return True\n",
    "\n",
    "my_list = [2, 3, 4, 5, 6, 7, 8, 9, 10]\n",
    "prime_numbers = [num for num in my_list if is_prime(num)]\n",
    "sum_primes = sum(prime_numbers)\n",
    "print(prime_numbers)  # Output: [2, 3, 5, 7]\n",
    "print(sum_primes)  # Output: 17\n"
   ]
  },
  {
   "attachments": {},
   "cell_type": "markdown",
   "metadata": {},
   "source": [
    "## 3. Tính tổng các số dương và tích các số âm trong danh sách:"
   ]
  },
  {
   "attachments": {},
   "cell_type": "markdown",
   "metadata": {},
   "source": [
    "```mermaid\n",
    "graph LR\n",
    "    A[Start] --> B(Initialize positive_numbers list)\n",
    "    B --> C(Initialize negative_numbers list)\n",
    "    C --> D{Loop through each number in my_list}\n",
    "    D -- Check if positive --> E[Add the positive number to positive_numbers list]\n",
    "    D -- Check if negative --> F[Multiply the number with product_negative]\n",
    "    D -- Not positive or negative --> D\n",
    "    E --> G(Calculate the sum of positive_numbers)\n",
    "    F --> D\n",
    "    G --> H(Display positive_numbers and sum_positive)\n",
    "    H --> I(Display product_negative)\n",
    "    I --> J[End]\n",
    "```"
   ]
  },
  {
   "cell_type": "code",
   "execution_count": 4,
   "metadata": {},
   "outputs": [
    {
     "name": "stdout",
     "output_type": "stream",
     "text": [
      "12\n",
      "-15\n"
     ]
    }
   ],
   "source": [
    "#Tính tổng các số dương và tích các số âm trong danh sách:\n",
    "my_list = [-1, 2, -3, 4, -5, 6]\n",
    "positive_numbers = [num for num in my_list if num > 0]\n",
    "negative_numbers = [num for num in my_list if num < 0]\n",
    "sum_positive = sum(positive_numbers)\n",
    "product_negative = 1  # Khởi tạo giá trị bằng 1 để nhân các số âm\n",
    "for num in negative_numbers:\n",
    "    product_negative *= num\n",
    "print(sum_positive)  # Output: 12 (2 + 4 + 6)\n",
    "print(product_negative)  # Output: -15 (-1 * -3 * -5)\n"
   ]
  },
  {
   "attachments": {},
   "cell_type": "markdown",
   "metadata": {},
   "source": [
    "## 4. Tính tổng các số trong danh sách sau khi loại bỏ các số trùng lặp:"
   ]
  },
  {
   "attachments": {},
   "cell_type": "markdown",
   "metadata": {},
   "source": [
    "```mermaid\n",
    "graph LR\n",
    "    A[Start] --> B(Initialize unique_numbers set)\n",
    "    B --> C{Loop through each number in my_list}\n",
    "    C -- Add number to set --> D[Add the number to unique_numbers set]\n",
    "    C -- Not add number to set --> C\n",
    "    D --> E(Convert unique_numbers set to a list)\n",
    "    E --> F(Calculate the sum of unique_numbers)\n",
    "    F --> G(Display unique_numbers and sum_unique)\n",
    "    G --> H[End]\n",
    "```"
   ]
  },
  {
   "cell_type": "code",
   "execution_count": 5,
   "metadata": {},
   "outputs": [
    {
     "name": "stdout",
     "output_type": "stream",
     "text": [
      "[1, 2, 3, 4, 5, 6, 7, 8]\n",
      "36\n"
     ]
    }
   ],
   "source": [
    "#Tính tổng các số trong danh sách sau khi loại bỏ các số trùng lặp:\n",
    "my_list = [1, 2, 3, 2, 4, 5, 1, 6, 7, 8, 5]\n",
    "unique_numbers = list(set(my_list))  # Loại bỏ các số trùng lặp\n",
    "sum_unique = sum(unique_numbers)\n",
    "print(unique_numbers)  # Output: [1, 2, 3, 4, 5, 6, 7, 8]\n",
    "print(sum_unique)  # Output: 36"
   ]
  },
  {
   "attachments": {},
   "cell_type": "markdown",
   "metadata": {},
   "source": [
    "# 2D List"
   ]
  },
  {
   "attachments": {},
   "cell_type": "markdown",
   "metadata": {},
   "source": [
    "## 1. Tổng các phần tử trong danh sách 2D:"
   ]
  },
  {
   "attachments": {},
   "cell_type": "markdown",
   "metadata": {},
   "source": [
    "```mermaid\n",
    "graph LR\n",
    "    A((Start))\n",
    "    B[Initialize my_list]\n",
    "    C[Initialize total]\n",
    "    D{Loop through my_list}\n",
    "    E[Get sublist]\n",
    "    F[Calculate sum of sublist]\n",
    "    G[Add sum to total]\n",
    "    H[Check if more sublists]\n",
    "    I((End))\n",
    "\n",
    "    A --> B\n",
    "    B --> C\n",
    "    C --> D\n",
    "    D -- Yes --> E\n",
    "    E --> F\n",
    "    F --> G\n",
    "    G --> H\n",
    "    H -- Yes --> D\n",
    "    H -- No --> I\n",
    "\n",
    "\n",
    "```"
   ]
  },
  {
   "cell_type": "code",
   "execution_count": 6,
   "metadata": {},
   "outputs": [
    {
     "name": "stdout",
     "output_type": "stream",
     "text": [
      "45\n"
     ]
    }
   ],
   "source": [
    "my_list = [[1, 2, 3], [4, 5, 6], [7, 8, 9]]\n",
    "total = 0\n",
    "for sublist in my_list:\n",
    "    total += sum(sublist)\n",
    "print(total)  # Output: 45\n"
   ]
  },
  {
   "attachments": {},
   "cell_type": "markdown",
   "metadata": {},
   "source": [
    "## 2. Tìm giá trị lớn nhất và nhỏ nhất trong danh sách 2D:"
   ]
  },
  {
   "attachments": {},
   "cell_type": "markdown",
   "metadata": {},
   "source": [
    "```mermaid\n",
    "graph LR\n",
    "    A((Start))\n",
    "    B[Initialize my_list]\n",
    "    C[Initialize max_value]\n",
    "    D[Initialize min_value]\n",
    "    E{Loop through my_list}\n",
    "    F[Get sublist]\n",
    "    G[Find max value in sublist]\n",
    "    H[Update max_value if necessary]\n",
    "    I[Find min value in sublist]\n",
    "    J[Update min_value if necessary]\n",
    "    K[Check if more sublists]\n",
    "    L((End))\n",
    "\n",
    "    A --> B\n",
    "    B --> C\n",
    "    C --> D\n",
    "    D --> E\n",
    "    E -- Yes --> F\n",
    "    F --> G\n",
    "    G --> H\n",
    "    H --> I\n",
    "    I --> J\n",
    "    J --> K\n",
    "    K -- Yes --> E\n",
    "    K -- No --> L\n",
    "\n",
    "\n",
    "\n",
    "```"
   ]
  },
  {
   "cell_type": "code",
   "execution_count": 10,
   "metadata": {},
   "outputs": [
    {
     "name": "stdout",
     "output_type": "stream",
     "text": [
      "9\n",
      "1\n"
     ]
    }
   ],
   "source": [
    "my_list = [[1, 2, 3], [4, 5, 6], [7, 8, 9]]\n",
    "max_value = float('-inf')\n",
    "min_value = float('inf')\n",
    "for sublist in my_list:\n",
    "    max_value = max(max_value, max(sublist))\n",
    "    min_value = min(min_value, min(sublist))\n",
    "print(max_value)  # Output: 9\n",
    "print(min_value)  # Output: 1\n"
   ]
  },
  {
   "attachments": {},
   "cell_type": "markdown",
   "metadata": {},
   "source": [
    "## 3. Tính trung bình cộng của danh sách 2D"
   ]
  },
  {
   "attachments": {},
   "cell_type": "markdown",
   "metadata": {},
   "source": [
    "```mermaid\n",
    "graph LR\n",
    "    A[Start] --> B(Initialize total and count variables)\n",
    "    B --> C{Loop through each sublist in my_list}\n",
    "    C -- Get sum of sublist --> D[Add sum to total]\n",
    "    C -- Count sublist elements --> E[Update count]\n",
    "    C -- No more sublists --> F[Calculate average]\n",
    "    F --> G[Display average]\n",
    "    G --> H[End]\n",
    "\n",
    "```"
   ]
  },
  {
   "attachments": {},
   "cell_type": "markdown",
   "metadata": {},
   "source": [
    "```mermaid\n",
    "graph LR\n",
    "    A((Start))\n",
    "    B[Initialize my_list]\n",
    "    C[Initialize total]\n",
    "    D[Initialize count]\n",
    "    E{Loop through my_list}\n",
    "    F[Get sublist]\n",
    "    G[Calculate sum of sublist]\n",
    "    H[Update total]\n",
    "    I[Calculate length of sublist]\n",
    "    J[Update count]\n",
    "    K[Check if more sublists]\n",
    "    L[Calculate average]\n",
    "    M((End))\n",
    "\n",
    "    A --> B\n",
    "    B --> C\n",
    "    C --> D\n",
    "    D --> E\n",
    "    E -- Yes --> F\n",
    "    F --> G\n",
    "    G --> H\n",
    "    H --> I\n",
    "    I --> J\n",
    "    J --> K\n",
    "    K -- Yes --> E\n",
    "    K -- No --> L\n",
    "    L --> M\n",
    "```"
   ]
  },
  {
   "cell_type": "code",
   "execution_count": 7,
   "metadata": {},
   "outputs": [
    {
     "name": "stdout",
     "output_type": "stream",
     "text": [
      "5.0\n"
     ]
    }
   ],
   "source": [
    "my_list = [[1, 2, 3], [4, 5, 6], [7, 8, 9]]\n",
    "total = 0\n",
    "count = 0\n",
    "for sublist in my_list:\n",
    "    total += sum(sublist)\n",
    "    count += len(sublist)\n",
    "average = total / count\n",
    "print(average)  # Output: 5.0\n"
   ]
  },
  {
   "attachments": {},
   "cell_type": "markdown",
   "metadata": {},
   "source": [
    "## 4. Sắp xếp danh sách 2D theo thứ tự tăng dần hoặc giảm dần:"
   ]
  },
  {
   "attachments": {},
   "cell_type": "markdown",
   "metadata": {},
   "source": [
    "```mermaid\n",
    "graph LR\n",
    "    A[Start] --> B(Initialize sorted_list)\n",
    "    B --> C{Loop through each sublist in my_list}\n",
    "    C -- Sort sublist in ascending order --> D[Add sorted sublist to sorted_list]\n",
    "    C -- No more sublists --> E[Display sorted_list]\n",
    "    E --> F[End]\n",
    "\n",
    "```"
   ]
  },
  {
   "cell_type": "code",
   "execution_count": 8,
   "metadata": {},
   "outputs": [
    {
     "name": "stdout",
     "output_type": "stream",
     "text": [
      "[[1, 3, 5], [2, 4, 6], [7, 8, 9]]\n",
      "[[5, 3, 1], [6, 4, 2], [9, 8, 7]]\n"
     ]
    }
   ],
   "source": [
    "my_list = [[5, 3, 1], [4, 2, 6], [9, 7, 8]]\n",
    "sorted_list = [sorted(sublist) for sublist in my_list]  # Sắp xếp tăng dần từng sublist\n",
    "reverse_sorted_list = [sorted(sublist, reverse=True) for sublist in my_list]  # Sắp xếp giảm dần từng sublist\n",
    "print(sorted_list)  # Output: [[1, 3, 5], [2, 4, 6], [7, 8, 9]]\n",
    "print(reverse_sorted_list)  # Output: [[5, 3, 1], [6, 4, 2], [9, 8, 7]]\n"
   ]
  },
  {
   "attachments": {},
   "cell_type": "markdown",
   "metadata": {},
   "source": [
    "# 2D List Nâng Cao"
   ]
  },
  {
   "attachments": {},
   "cell_type": "markdown",
   "metadata": {},
   "source": [
    "## 1. Tính tổng các phần tử trong mỗi hàng và tính tổng của các tổng hàng:"
   ]
  },
  {
   "attachments": {},
   "cell_type": "markdown",
   "metadata": {},
   "source": [
    "```mermaid\n",
    "graph LR\n",
    "    A[Start] --> B(Initialize row_sums list)\n",
    "    B --> C{Loop through each sublist in my_list}\n",
    "    C -- Get sum of sublist --> D[Add sum to row_sums list]\n",
    "    C -- No more sublists --> E[Calculate total sum of row_sums]\n",
    "    E --> F[Display row_sums and total sum]\n",
    "    F --> G[End]\n",
    "\n",
    "```"
   ]
  },
  {
   "cell_type": "code",
   "execution_count": 9,
   "metadata": {},
   "outputs": [
    {
     "name": "stdout",
     "output_type": "stream",
     "text": [
      "[6, 15, 24]\n",
      "45\n"
     ]
    }
   ],
   "source": [
    "my_list = [[1, 2, 3], [4, 5, 6], [7, 8, 9]]\n",
    "row_sums = [sum(row) for row in my_list]  # Tính tổng của mỗi hàng\n",
    "total_sum = sum(row_sums)  # Tính tổng của các tổng hàng\n",
    "print(row_sums)  # Output: [6, 15, 24]\n",
    "print(total_sum)  # Output: 45\n"
   ]
  },
  {
   "attachments": {},
   "cell_type": "markdown",
   "metadata": {},
   "source": [
    "## 2. Tính tổng các phần tử trong mỗi cột và tính tổng của các tổng cột:"
   ]
  },
  {
   "attachments": {},
   "cell_type": "markdown",
   "metadata": {},
   "source": [
    "```mermaid\n",
    "graph LR\n",
    "    A[Start] --> B(Transpose my_list to columns)\n",
    "    B --> C(Initialize column_sums list)\n",
    "    C --> D{Loop through each column in transposed_list}\n",
    "    D -- Get sum of column --> E[Add sum to column_sums list]\n",
    "    D -- No more columns --> F[Calculate total sum of column_sums]\n",
    "    F --> G[Display column_sums and total sum]\n",
    "    G --> H[End]\n",
    "\n",
    "```"
   ]
  },
  {
   "cell_type": "code",
   "execution_count": 10,
   "metadata": {},
   "outputs": [
    {
     "name": "stdout",
     "output_type": "stream",
     "text": [
      "[12, 15, 18]\n",
      "45\n"
     ]
    }
   ],
   "source": [
    "my_list = [[1, 2, 3], [4, 5, 6], [7, 8, 9]]\n",
    "column_sums = [sum(column) for column in zip(*my_list)]  # Tính tổng của mỗi cột\n",
    "total_sum = sum(column_sums)  # Tính tổng của các tổng cột\n",
    "print(column_sums)  # Output: [12, 15, 18]\n",
    "print(total_sum)  # Output: 45\n"
   ]
  },
  {
   "attachments": {},
   "cell_type": "markdown",
   "metadata": {},
   "source": [
    "## 3. Tìm phần tử lớn nhất và vị trí của phần tử đó trong danh sách 2D:"
   ]
  },
  {
   "attachments": {},
   "cell_type": "markdown",
   "metadata": {},
   "source": [
    "```mermaid\n",
    "graph LR\n",
    "    A[Start] --> B(Initialize max_value, max_row, and max_col)\n",
    "    B --> C{Loop through each sublist in my_list}\n",
    "    C -- Loop through each element in sublist --> D{Check if element is greater than max_value}\n",
    "    D -- Yes --> E[Update max_value, max_row, and max_col]\n",
    "    D -- No --> D\n",
    "    C -- No more elements --> C\n",
    "    C -- No more sublists --> F[Display max_value, max_row, and max_col]\n",
    "    F --> G[End]\n",
    "\n",
    "```"
   ]
  },
  {
   "cell_type": "code",
   "execution_count": 11,
   "metadata": {},
   "outputs": [
    {
     "name": "stdout",
     "output_type": "stream",
     "text": [
      "9\n",
      "1 1\n"
     ]
    }
   ],
   "source": [
    "my_list = [[1, 2, 3], [4, 9, 6], [7, 8, 5]]\n",
    "max_value = float('-inf')\n",
    "max_row, max_col = None, None\n",
    "for i, row in enumerate(my_list):\n",
    "    for j, num in enumerate(row):\n",
    "        if num > max_value:\n",
    "            max_value = num\n",
    "            max_row, max_col = i, j\n",
    "print(max_value)  # Output: 9\n",
    "print(max_row, max_col)  # Output: 1 1\n"
   ]
  },
  {
   "attachments": {},
   "cell_type": "markdown",
   "metadata": {},
   "source": [
    "## 4. Tìm phần tử lớn nhất trong danh sách 2D và hiển thị hàng chứa phần tử đó:"
   ]
  },
  {
   "attachments": {},
   "cell_type": "markdown",
   "metadata": {},
   "source": [
    "```mermaid\n",
    "graph LR\n",
    "    A[Start] --> B(Initialize max_value and max_row)\n",
    "    B --> C{Loop through each sublist in my_list}\n",
    "    C -- Check sublist for max --> D{Update max_value and max_row if necessary}\n",
    "    D -- No more sublists --> E[Display max_value and max_row]\n",
    "    E --> F[End]\n",
    "\n",
    "```"
   ]
  },
  {
   "cell_type": "code",
   "execution_count": 12,
   "metadata": {},
   "outputs": [
    {
     "name": "stdout",
     "output_type": "stream",
     "text": [
      "9\n",
      "[4, 9, 6]\n"
     ]
    }
   ],
   "source": [
    "my_list = [[1, 2, 3], [4, 9, 6], [7, 8, 5]]\n",
    "max_value = float('-inf')\n",
    "max_row = None\n",
    "for row in my_list:\n",
    "    if max(row) > max_value:\n",
    "        max_value = max(row)\n",
    "        max_row = row\n",
    "print(max_value)  # Output: 9\n",
    "print(max_row)  # Output: [4, 9, 6]\n"
   ]
  }
 ],
 "metadata": {
  "kernelspec": {
   "display_name": "aio2023",
   "language": "python",
   "name": "python3"
  },
  "language_info": {
   "codemirror_mode": {
    "name": "ipython",
    "version": 3
   },
   "file_extension": ".py",
   "mimetype": "text/x-python",
   "name": "python",
   "nbconvert_exporter": "python",
   "pygments_lexer": "ipython3",
   "version": "3.9.16"
  },
  "orig_nbformat": 4
 },
 "nbformat": 4,
 "nbformat_minor": 2
}
