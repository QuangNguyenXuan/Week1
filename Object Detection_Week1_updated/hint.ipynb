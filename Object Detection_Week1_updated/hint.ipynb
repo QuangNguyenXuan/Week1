{
  "cells": [
    {
      "cell_type": "markdown",
      "metadata": {
        "id": "pBVjeHj2ST74"
      },
      "source": [
        "Câu 1: Triển khai code cho một số phép tăng cường dữ liệu như: Scale, Random rotation, Translation,\n",
        "Random horizontal fipping, Random Crop."
      ]
    },
    {
      "cell_type": "code",
      "execution_count": null,
      "metadata": {
        "id": "rnbARFqeSE7p"
      },
      "outputs": [],
      "source": [
        "import cv2\n",
        "import numpy as np\n",
        "\n",
        "# Scale\n",
        "def scale(img, scale_percent):\n",
        "\n",
        "\n",
        "# Random rotation\n",
        "def rotate(img, angle):\n",
        "\n",
        "\n",
        "# Translate\n",
        "def translate(img, x, y):\n",
        "\n",
        "\n",
        "# Random Horizontal Flipping\n",
        "def flip(img, flip_code=1):\n",
        "\n",
        "\n",
        "# Random Crop\n",
        "def crop(img, x, y, w, h):\n",
        "  return img[y:y+h, x:x+w]\n"
      ]
    },
    {
      "cell_type": "markdown",
      "metadata": {
        "id": "OfoPOMjWS3UB"
      },
      "source": [
        "Câu 2: Bạn hãy triển khai code tính IOU"
      ]
    },
    {
      "cell_type": "code",
      "execution_count": null,
      "metadata": {
        "id": "lBvEhiiPS5_b"
      },
      "outputs": [],
      "source": [
        "import numpy as np\n",
        "\n",
        "def calculate_iou(boxA, boxB):\n"
      ]
    },
    {
      "cell_type": "markdown",
      "metadata": {
        "id": "euwOIugqTAwo"
      },
      "source": [
        "Câu 3: Bạn hãy triển khai code cho quá trình tính Non-maximum Suppresion của các boxes để loại\n",
        "bỏ các box overlap."
      ]
    },
    {
      "cell_type": "code",
      "execution_count": null,
      "metadata": {
        "id": "QbrJ2VdCTDMO"
      },
      "outputs": [],
      "source": [
        "import torch\n",
        "import numpy as np \n",
        "\n",
        "def nms(boxes, scores, threshold):"
      ]
    },
    {
      "cell_type": "markdown",
      "metadata": {
        "id": "XMsgOJIsTLxY"
      },
      "source": [
        "Câu 4: Bạn hãy triển khai code tính mAP metric để đánh giá quá trình training cho Object Detection."
      ]
    },
    {
      "cell_type": "code",
      "execution_count": null,
      "metadata": {
        "id": "LLqztDgXZkcX"
      },
      "outputs": [],
      "source": [
        "import torch\n",
        "import numpy as np \n",
        "\n",
        "def calculate_map(detections, ground_truth, iou_threshold=0.5):"
      ]
    }
  ],
  "metadata": {
    "colab": {
      "provenance": []
    },
    "kernelspec": {
      "display_name": "Python 3",
      "name": "python3"
    },
    "language_info": {
      "name": "python"
    }
  },
  "nbformat": 4,
  "nbformat_minor": 0
}
