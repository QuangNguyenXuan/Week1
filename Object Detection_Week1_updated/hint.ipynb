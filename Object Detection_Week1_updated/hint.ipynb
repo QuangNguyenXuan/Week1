{
  "nbformat": 4,
  "nbformat_minor": 0,
  "metadata": {
    "colab": {
      "provenance": []
    },
    "kernelspec": {
      "name": "python3",
      "display_name": "Python 3"
    },
    "language_info": {
      "name": "python"
    }
  },
  "cells": [
    {
      "cell_type": "markdown",
      "source": [
        "Câu 1: Triển khai code cho một số phép tăng cường dữ liệu như: Scale, Random rotation, Translation,\n",
        "Random horizontal fipping, Random Crop"
      ],
      "metadata": {
        "id": "pBVjeHj2ST74"
      }
    },
    {
      "cell_type": "code",
      "execution_count": null,
      "metadata": {
        "id": "rnbARFqeSE7p"
      },
      "outputs": [],
      "source": [
        "import cv2\n",
        "import numpy as np\n",
        "\n",
        "# Scale\n",
        "def scale(img, scale_percent):\n",
        "\n",
        "\n",
        "# Random rotation\n",
        "def rotate(img, angle):\n",
        "\n",
        "\n",
        "# Translate\n",
        "def translate(img, x, y):\n",
        "\n",
        "\n",
        "# Random Horizontal Flipping\n",
        "def flip(img, flip_code=1):\n",
        "\n",
        "\n",
        "# Random Crop\n",
        "def crop(img, x, y, w, h):\n",
        "  return img[y:y+h, x:x+w]\n"
      ]
    },
    {
      "cell_type": "markdown",
      "source": [
        "Câu 2: Bạn hãy triển khai code tính IOU"
      ],
      "metadata": {
        "id": "OfoPOMjWS3UB"
      }
    },
    {
      "cell_type": "code",
      "source": [
        "import numpy as np\n",
        "\n",
        "def calculate_iou(boxA, boxB):\n"
      ],
      "metadata": {
        "id": "lBvEhiiPS5_b"
      },
      "execution_count": null,
      "outputs": []
    },
    {
      "cell_type": "markdown",
      "source": [
        "Câu 3: Bạn hãy triển khai code cho quá trình tính Non-maximum Suppresion của các boxes để loại\n",
        "bỏ các box overlap."
      ],
      "metadata": {
        "id": "euwOIugqTAwo"
      }
    },
    {
      "cell_type": "code",
      "source": [
        "import torch\n",
        "import numpy as np \n",
        "\n",
        "def nms(boxes, scores, threshold):"
      ],
      "metadata": {
        "id": "QbrJ2VdCTDMO"
      },
      "execution_count": null,
      "outputs": []
    },
    {
      "cell_type": "markdown",
      "source": [
        "Câu 4: Bạn hãy triển khai code tính mAP metric để đánh giá quá trình training cho Object Detection."
      ],
      "metadata": {
        "id": "XMsgOJIsTLxY"
      }
    },
    {
      "cell_type": "code",
      "source": [
        "import torch\n",
        "import numpy as np \n",
        "\n",
        "def calculate_map(detections, ground_truth, iou_threshold=0.5):"
      ],
      "metadata": {
        "id": "LLqztDgXZkcX"
      },
      "execution_count": null,
      "outputs": []
    }
  ]
}